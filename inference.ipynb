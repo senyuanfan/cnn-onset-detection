{
 "cells": [
  {
   "attachments": {},
   "cell_type": "markdown",
   "metadata": {},
   "source": [
    "### Inference of CNN Onset Detection"
   ]
  },
  {
   "cell_type": "code",
   "execution_count": 1,
   "metadata": {},
   "outputs": [],
   "source": [
    "import sys\n",
    "import glob\n",
    "import torch\n",
    "from torch.utils import data\n",
    "from utils import onsetCNN, Dataset\n",
    "import numpy as np\n",
    "import matplotlib.pyplot as plt\n",
    "import os\n",
    "import utils\n",
    "\n",
    "import librosa\n",
    "\n",
    "# dangerous solution\n",
    "os.environ['KMP_DUPLICATE_LIB_OK']='True' \n"
   ]
  },
  {
   "attachments": {},
   "cell_type": "markdown",
   "metadata": {},
   "source": [
    "Load Song, Calculate Mean and STD of Song"
   ]
  },
  {
   "cell_type": "code",
   "execution_count": 2,
   "metadata": {},
   "outputs": [],
   "source": [
    "audio_name = 'castanet'\n",
    "audio_format = '.wav'\n",
    "save_dir = './data_pt_inference'\n",
    "\n",
    "means_song=[np.array([]),np.array([]),np.array([])]\n",
    "stds_song=[np.array([]),np.array([]),np.array([])]\n",
    "\n",
    "\n",
    "#load audio\n",
    "x,fs=librosa.load(audio_name+audio_format, sr=44100)\n",
    "\n",
    "#get mel spectrogram\n",
    "\n",
    "#updated to melspectrogram new librosa syntax\n",
    "melgram1=librosa.feature.melspectrogram(y=x,sr=fs,n_fft=1024, hop_length=441,n_mels=80, fmin=27.5, fmax=16000)\n",
    "melgram2=librosa.feature.melspectrogram(y=x,sr=fs,n_fft=2048, hop_length=441,n_mels=80, fmin=27.5, fmax=16000)\n",
    "melgram3=librosa.feature.melspectrogram(y=x,sr=fs,n_fft=4096, hop_length=441,n_mels=80, fmin=27.5, fmax=16000)\n",
    "\n",
    "#log scaling\n",
    "melgram1=10*np.log10(1e-10+melgram1)\n",
    "melgram2=10*np.log10(1e-10+melgram2)\n",
    "melgram3=10*np.log10(1e-10+melgram3)\n",
    "\n",
    "means_song[0]=np.mean(melgram1,1)\n",
    "means_song[1]=np.mean(melgram2,1)\n",
    "means_song[2]=np.mean(melgram3,1)\n",
    "\n",
    "stds_song[0]=np.std(melgram1,1)\n",
    "stds_song[1]=np.std(melgram2,1)\n",
    "stds_song[2]=np.std(melgram3,1)\n",
    "\n",
    "\n",
    "# prepare for data generation\n",
    "means = means_song\n",
    "stds = stds_song"
   ]
  },
  {
   "attachments": {},
   "cell_type": "markdown",
   "metadata": {},
   "source": [
    "Gen Data"
   ]
  },
  {
   "cell_type": "code",
   "execution_count": 3,
   "metadata": {},
   "outputs": [],
   "source": [
    "\n",
    "\n",
    "#function to zero pad ends of spectrogram\n",
    "def zeropad2d(x,n_frames):\n",
    "\ty=np.hstack((np.zeros([x.shape[0],n_frames]), x))\n",
    "\ty=np.hstack((y,np.zeros([x.shape[0],n_frames])))\n",
    "\treturn y\n",
    "\n",
    "#function to create N-frame overlapping chunks of the full audio spectrogram  \n",
    "def makechunks(x,duration):\n",
    "\ty=np.zeros([x.shape[1],x.shape[0],duration])\n",
    "\tfor i_frame in range(x.shape[1]-duration):\n",
    "\t\ty[i_frame]=x[:,i_frame:i_frame+duration]\n",
    "\treturn y\n",
    "#context parameters\n",
    "contextlen=7 #+- frames\n",
    "duration=2*contextlen+1\n",
    "\n",
    "#main\n",
    "songlist=np.loadtxt('songlist.txt',dtype=str)\n",
    "audio_format='.flac'\n",
    "labels_master={}\n",
    "weights_master={}\n",
    "filelist=[]\n",
    "\n",
    "#normalize\n",
    "melgram1=(melgram1-np.atleast_2d(means[0]).T)/np.atleast_2d(stds[0]).T\n",
    "melgram2=(melgram2-np.atleast_2d(means[1]).T)/np.atleast_2d(stds[1]).T\n",
    "melgram3=(melgram3-np.atleast_2d(means[2]).T)/np.atleast_2d(stds[2]).T\n",
    "\n",
    "#zero pad ends\n",
    "melgram1=zeropad2d(melgram1,contextlen)\n",
    "melgram2=zeropad2d(melgram2,contextlen)\n",
    "melgram3=zeropad2d(melgram3,contextlen)\n",
    "\n",
    "#make chunks\n",
    "melgram1_chunks=makechunks(melgram1,duration)\n",
    "melgram2_chunks=makechunks(melgram2,duration)\n",
    "melgram3_chunks=makechunks(melgram3,duration)\n",
    "\n",
    "# #generate song labels\n",
    "# hop_dur=10e-3\n",
    "# labels=np.zeros(melgram1_chunks.shape[0])\n",
    "# weights=np.ones(melgram1_chunks.shape[0])\n",
    "# idxs=np.array(np.round(onsets/hop_dur),dtype=int)\n",
    "# labels[idxs]=1\n",
    "\n",
    "# #target smearing\n",
    "# labels[idxs-1]=1\n",
    "# labels[idxs+1]=1\n",
    "# weights[idxs-1]=0.25\n",
    "# weights[idxs+1]=0.25\n",
    "\n",
    "# labels_dict={}\n",
    "# weights_dict={}\n",
    "\n",
    "for i_chunk in range(melgram1_chunks.shape[0]):\n",
    "    savepath = os.path.join(save_dir,str(i_chunk)+'.pt')\n",
    "    #np.save(savepath,np.array([melgram1_chunks[i_chunk],melgram2_chunks[i_chunk],melgram3_chunks[i_chunk]]))\n",
    "    torch.save(torch.tensor(np.array([melgram1_chunks[i_chunk], melgram2_chunks[i_chunk], melgram3_chunks[i_chunk]])), savepath)\n"
   ]
  },
  {
   "attachments": {},
   "cell_type": "markdown",
   "metadata": {},
   "source": [
    "Load Model"
   ]
  },
  {
   "cell_type": "code",
   "execution_count": 4,
   "metadata": {},
   "outputs": [
    {
     "data": {
      "text/plain": [
       "onsetCNN(\n",
       "  (conv1): Conv2d(3, 10, kernel_size=(3, 7), stride=(1, 1))\n",
       "  (pool1): MaxPool2d(kernel_size=(3, 1), stride=(3, 1), padding=0, dilation=1, ceil_mode=False)\n",
       "  (conv2): Conv2d(10, 20, kernel_size=(3, 3), stride=(1, 1))\n",
       "  (pool2): MaxPool2d(kernel_size=(3, 1), stride=(3, 1), padding=0, dilation=1, ceil_mode=False)\n",
       "  (fc1): Linear(in_features=1120, out_features=256, bias=True)\n",
       "  (fc2): Linear(in_features=256, out_features=1, bias=True)\n",
       "  (dout): Dropout(p=0.5, inplace=False)\n",
       ")"
      ]
     },
     "execution_count": 4,
     "metadata": {},
     "output_type": "execute_result"
    }
   ],
   "source": [
    "#Use gpu\n",
    "use_cuda = torch.cuda.is_available()\n",
    "device = torch.device(\"cuda:0\" if use_cuda else \"cpu\")\n",
    "\n",
    "#evaluation tolerance and merge duration for close onsets\n",
    "tolerance=60e-3 #+- tolerance/2 seconds\n",
    "mergeDur=20e-3\n",
    "hop_dur=10e-3\n",
    "mergeDur_frame=mergeDur/hop_dur\n",
    "tolerance_frame=tolerance/hop_dur\n",
    "\n",
    "# fold = int(sys.argv[1]) #cmd line argument\n",
    "\n",
    "#load model\n",
    "path_to_saved_model = 'models/saved_model_1.pt'\n",
    "model = onsetCNN().double().to(device)\n",
    "model.load_state_dict(torch.load(path_to_saved_model,map_location='cuda:0'))\n",
    "model.eval()"
   ]
  },
  {
   "cell_type": "code",
   "execution_count": 5,
   "metadata": {},
   "outputs": [],
   "source": [
    "save_dir = './data_pt_inference'\n",
    "\n",
    "odf=np.array([])\n",
    "\n",
    "n_files=len(glob.glob('./data_pt_inference/*.pt'))\n",
    "for i_file in range(n_files):\n",
    "    x=torch.load(os.path.join(save_dir,'%d.pt'%i_file)).to(device)\n",
    "    x=x.unsqueeze(0)\n",
    "    y=model(x).squeeze().cpu().detach().numpy()\n",
    "    odf=np.append(odf,y)\n",
    "    "
   ]
  },
  {
   "cell_type": "code",
   "execution_count": 6,
   "metadata": {},
   "outputs": [
    {
     "name": "stdout",
     "output_type": "stream",
     "text": [
      "device:  cuda:0\n",
      "2057\n"
     ]
    }
   ],
   "source": [
    "print('device: ', device)\n",
    "print(len(odf))"
   ]
  },
  {
   "cell_type": "code",
   "execution_count": 7,
   "metadata": {},
   "outputs": [
    {
     "data": {
      "text/plain": [
       "[<matplotlib.lines.Line2D at 0x1bf1c321df0>]"
      ]
     },
     "execution_count": 7,
     "metadata": {},
     "output_type": "execute_result"
    },
    {
     "data": {
      "image/png": "[encoded data removed]",
      "text/plain": [
       "<Figure size 640x480 with 1 Axes>"
      ]
     },
     "metadata": {},
     "output_type": "display_data"
    }
   ],
   "source": [
    "plt.plot(odf)"
   ]
  }
 ],
 "metadata": {
  "kernelspec": {
   "display_name": "python39",
   "language": "python",
   "name": "python3"
  },
  "language_info": {
   "codemirror_mode": {
    "name": "ipython",
    "version": 3
   },
   "file_extension": ".py",
   "mimetype": "text/x-python",
   "name": "python",
   "nbconvert_exporter": "python",
   "pygments_lexer": "ipython3",
   "version": "3.9.16"
  },
  "orig_nbformat": 4
 },
 "nbformat": 4,
 "nbformat_minor": 2
}
